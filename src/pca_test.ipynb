{
 "cells": [
  {
   "cell_type": "code",
   "execution_count": 1,
   "metadata": {},
   "outputs": [],
   "source": [
    "import os, cv2, sys, time, numpy as np\n",
    "import matplotlib.pyplot as plt\n",
    "from sklearn.decomposition import PCA\n",
    "import re\n",
    "import subprocess, pickle"
   ]
  },
  {
   "cell_type": "code",
   "execution_count": 33,
   "metadata": {},
   "outputs": [],
   "source": [
    "def load_frames(input_path, num_frames):\n",
    "    # Carica i frame e li converte in un array 2D per la PCA.\n",
    "    frames = []\n",
    "    for i in range(num_frames):\n",
    "        num = str(i).zfill(3)\n",
    "        frame_path = os.path.join(input_path, f\"Frame_{num}.png\")\n",
    "        frame = cv2.imread(frame_path)\n",
    "        frame = cv2.cvtColor(frame, cv2.COLOR_BGR2RGB)\n",
    "        frames.append(frame.flatten())  # Appiattisci ogni frame in un vettore\n",
    "    return np.array(frames)\n",
    "\n",
    "def apply_pca_to_dataset(frames, n_components, original_shape):\n",
    "    # Applica la PCA al dataset di frame.\n",
    "    pca = PCA(n_components = n_components)\n",
    "    frames_compressed = pca.fit_transform(frames)  # Compressione\n",
    "    # frames_reconstructed = pca.inverse_transform(frames_compressed)  # Ricostruzione\n",
    "    \n",
    "    serialize_pca(pca, original_shape, frames_compressed, '../results/PCA/Dice/')\n",
    "\n",
    "\n",
    "def save_reconstructed_frames(output_path, frames_compressed, original_shape, components, mean):\n",
    "    reconstructed_data = np.dot(frames_compressed, components) + mean\n",
    "    \n",
    "    # Salva i frame ricostruiti come immagini.\n",
    "    os.makedirs(output_path, exist_ok=True)\n",
    "    for i, frame in enumerate(reconstructed_data):\n",
    "        num = str(i).zfill(3)\n",
    "        # Ricostruisci la forma originale\n",
    "        frame_reshaped = frame.reshape(original_shape).astype(np.uint8)\n",
    "        frame_path = os.path.join(output_path, f\"Frame_{num}.png\")\n",
    "        cv2.imwrite(frame_path, cv2.cvtColor(frame_reshaped, cv2.COLOR_RGB2BGR))\n",
    "        \n",
    "def serialize_pca(pca, original_shape, compressed_data, output_path):\n",
    "    # Salva il modello PCA e i dati compressi in un file.\n",
    "    data_to_save = {\n",
    "        'compressed_data': compressed_data,\n",
    "        'original_shape': original_shape\n",
    "    }\n",
    "    with open(output_path + 'dice_pca.pkl', 'wb') as f:\n",
    "        pickle.dump(data_to_save, f)\n",
    "        \n",
    "    np.savez_compressed(output_path + 'components.npz', pca.components_)\n",
    "        \n",
    "    \n",
    "        \n",
    "def deserialize_pca(input_path):\n",
    "    # Carica il modello PCA e i dati compressi da un file.\n",
    "    with open(input_path, 'rb') as f:\n",
    "        data = pickle.load(f)\n",
    "    return data['compressed_data'], data['original_shape'], data['components'], data['mean']\n",
    "\n",
    "\n"
   ]
  },
  {
   "cell_type": "code",
   "execution_count": 35,
   "metadata": {},
   "outputs": [],
   "source": [
    "# encoder\n",
    "n_components = 25 # Numero di componenti principali desiderati\n",
    "\n",
    "# Carica i frame\n",
    "sample_frame = cv2.imread(os.path.join(\"../datasets/Dice/\", \"Frame_000.png\"))\n",
    "original_shape = sample_frame.shape\n",
    "frames = load_frames(\"../datasets/Dice/\", 25)\n",
    "\n",
    "# Applica la PCA al dataset\n",
    "apply_pca_to_dataset(frames, n_components, original_shape)"
   ]
  },
  {
   "cell_type": "code",
   "execution_count": 36,
   "metadata": {},
   "outputs": [
    {
     "ename": "KeyError",
     "evalue": "'components'",
     "output_type": "error",
     "traceback": [
      "\u001b[0;31m---------------------------------------------------------------------------\u001b[0m",
      "\u001b[0;31mKeyError\u001b[0m                                  Traceback (most recent call last)",
      "Cell \u001b[0;32mIn[36], line 2\u001b[0m\n\u001b[1;32m      1\u001b[0m \u001b[38;5;66;03m# decoder\u001b[39;00m\n\u001b[0;32m----> 2\u001b[0m frames_compressed, original_shape, components, mean \u001b[38;5;241m=\u001b[39m \u001b[43mdeserialize_pca\u001b[49m\u001b[43m(\u001b[49m\u001b[38;5;124;43m'\u001b[39;49m\u001b[38;5;124;43m../results/PCA/Dice/dice_pca.pkl\u001b[39;49m\u001b[38;5;124;43m'\u001b[39;49m\u001b[43m)\u001b[49m\n\u001b[1;32m      3\u001b[0m \u001b[38;5;28mprint\u001b[39m(\u001b[38;5;28mtype\u001b[39m(components))\n\u001b[1;32m      4\u001b[0m \u001b[38;5;66;03m#save_reconstructed_frames('../results/PCA/Dice/', frames_compressed, original_shape, components, mean)\u001b[39;00m\n",
      "Cell \u001b[0;32mIn[33], line 50\u001b[0m, in \u001b[0;36mdeserialize_pca\u001b[0;34m(input_path)\u001b[0m\n\u001b[1;32m     48\u001b[0m \u001b[38;5;28;01mwith\u001b[39;00m \u001b[38;5;28mopen\u001b[39m(input_path, \u001b[38;5;124m'\u001b[39m\u001b[38;5;124mrb\u001b[39m\u001b[38;5;124m'\u001b[39m) \u001b[38;5;28;01mas\u001b[39;00m f:\n\u001b[1;32m     49\u001b[0m     data \u001b[38;5;241m=\u001b[39m pickle\u001b[38;5;241m.\u001b[39mload(f)\n\u001b[0;32m---> 50\u001b[0m \u001b[38;5;28;01mreturn\u001b[39;00m data[\u001b[38;5;124m'\u001b[39m\u001b[38;5;124mcompressed_data\u001b[39m\u001b[38;5;124m'\u001b[39m], data[\u001b[38;5;124m'\u001b[39m\u001b[38;5;124moriginal_shape\u001b[39m\u001b[38;5;124m'\u001b[39m], \u001b[43mdata\u001b[49m\u001b[43m[\u001b[49m\u001b[38;5;124;43m'\u001b[39;49m\u001b[38;5;124;43mcomponents\u001b[39;49m\u001b[38;5;124;43m'\u001b[39;49m\u001b[43m]\u001b[49m, data[\u001b[38;5;124m'\u001b[39m\u001b[38;5;124mmean\u001b[39m\u001b[38;5;124m'\u001b[39m]\n",
      "\u001b[0;31mKeyError\u001b[0m: 'components'"
     ]
    }
   ],
   "source": [
    "# decoder\n",
    "frames_compressed, original_shape, components, mean = deserialize_pca('../results/PCA/Dice/dice_pca.pkl')\n",
    "print(type(components))\n",
    "#save_reconstructed_frames('../results/PCA/Dice/', frames_compressed, original_shape, components, mean)"
   ]
  }
 ],
 "metadata": {
  "kernelspec": {
   "display_name": "data_compression",
   "language": "python",
   "name": "python3"
  },
  "language_info": {
   "codemirror_mode": {
    "name": "ipython",
    "version": 3
   },
   "file_extension": ".py",
   "mimetype": "text/x-python",
   "name": "python",
   "nbconvert_exporter": "python",
   "pygments_lexer": "ipython3",
   "version": "3.12.3"
  }
 },
 "nbformat": 4,
 "nbformat_minor": 2
}
